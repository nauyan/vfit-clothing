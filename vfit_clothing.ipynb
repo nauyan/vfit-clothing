{
  "nbformat": 4,
  "nbformat_minor": 0,
  "metadata": {
    "accelerator": "GPU",
    "colab": {
      "name": "vfit-clothing.ipynb",
      "provenance": [],
      "include_colab_link": true
    },
    "kernelspec": {
      "display_name": "Python 3",
      "language": "python",
      "name": "python3"
    },
    "language_info": {
      "codemirror_mode": {
        "name": "ipython",
        "version": 3
      },
      "file_extension": ".py",
      "mimetype": "text/x-python",
      "name": "python",
      "nbconvert_exporter": "python",
      "pygments_lexer": "ipython3",
      "version": "3.7.6"
    },
    "pycharm": {
      "stem_cell": {
        "cell_type": "raw",
        "metadata": {
          "collapsed": false
        },
        "source": []
      }
    }
  },
  "cells": [
    {
      "cell_type": "markdown",
      "metadata": {
        "id": "view-in-github",
        "colab_type": "text"
      },
      "source": [
        "<a href=\"https://colab.research.google.com/github/nauyan/vfit-clothing/blob/master/vfit_clothing.ipynb\" target=\"_parent\"><img src=\"https://colab.research.google.com/assets/colab-badge.svg\" alt=\"Open In Colab\"/></a>"
      ]
    },
    {
      "cell_type": "code",
      "metadata": {
        "colab_type": "code",
        "id": "8VEE2lbHAaU6",
        "colab": {}
      },
      "source": [
        "!git clone https://github.com/highend3d/vfit-clothing.git"
      ],
      "execution_count": 0,
      "outputs": []
    },
    {
      "cell_type": "code",
      "metadata": {
        "colab_type": "code",
        "id": "iqJFV169A8yU",
        "colab": {}
      },
      "source": [
        "cd vfit-clothing/"
      ],
      "execution_count": 0,
      "outputs": []
    },
    {
      "cell_type": "code",
      "metadata": {
        "colab_type": "code",
        "id": "Q5bzxmCIBEZR",
        "colab": {}
      },
      "source": [
        "!pip install -r requirements.txt"
      ],
      "execution_count": 0,
      "outputs": []
    },
    {
      "cell_type": "code",
      "metadata": {
        "colab_type": "code",
        "id": "0hITOMy0BIEg",
        "colab": {}
      },
      "source": [
        "cd thirdparty/neural_renderer"
      ],
      "execution_count": 0,
      "outputs": []
    },
    {
      "cell_type": "code",
      "metadata": {
        "colab_type": "code",
        "id": "v7YtWs_BB_oj",
        "colab": {}
      },
      "source": [
        "!python setup.py install"
      ],
      "execution_count": 0,
      "outputs": []
    },
    {
      "cell_type": "code",
      "metadata": {
        "colab_type": "code",
        "id": "L2Zk_k5zQBAz",
        "colab": {}
      },
      "source": [
        "cd ../.."
      ],
      "execution_count": 0,
      "outputs": []
    },
    {
      "cell_type": "code",
      "metadata": {
        "colab_type": "code",
        "id": "BsrST13RCBrJ",
        "colab": {}
      },
      "source": [
        "!wget --no-check-certificate -r  \"https://drive.google.com/uc?export=download&id=1gpZmI6fyNBaMC_LxxTaBMzyiPkeCxILu\" -O assets/pretrains.zip"
      ],
      "execution_count": 0,
      "outputs": []
    },
    {
      "cell_type": "code",
      "metadata": {
        "colab_type": "code",
        "id": "QY66SAXqvgTC",
        "colab": {}
      },
      "source": [
        "cd assets"
      ],
      "execution_count": 0,
      "outputs": []
    },
    {
      "cell_type": "code",
      "metadata": {
        "colab_type": "code",
        "id": "VfInCx-lviCl",
        "colab": {}
      },
      "source": [
        "!unzip pretrains.zip"
      ],
      "execution_count": 0,
      "outputs": []
    },
    {
      "cell_type": "code",
      "metadata": {
        "colab_type": "code",
        "id": "4qd5Dx7Nvoo8",
        "colab": {}
      },
      "source": [
        "cd .."
      ],
      "execution_count": 0,
      "outputs": []
    },
    {
      "cell_type": "code",
      "metadata": {
        "colab_type": "code",
        "id": "L15STTOqq4Uw",
        "colab": {}
      },
      "source": [
        "!wget --no-check-certificate -r  \"https://drive.google.com/uc?export=download&id=1cXF9pmVy9oz6hMCYRaXdk1d566JMZg-o\" -O outputs/checkpoints.zip"
      ],
      "execution_count": 0,
      "outputs": []
    },
    {
      "cell_type": "code",
      "metadata": {
        "colab_type": "code",
        "id": "DX-MPQKSs4pA",
        "colab": {}
      },
      "source": [
        "cd outputs"
      ],
      "execution_count": 0,
      "outputs": []
    },
    {
      "cell_type": "code",
      "metadata": {
        "colab_type": "code",
        "id": "Qz6mYZUEwF1d",
        "colab": {}
      },
      "source": [
        "!unzip checkpoints.zip"
      ],
      "execution_count": 0,
      "outputs": []
    },
    {
      "cell_type": "code",
      "metadata": {
        "colab_type": "code",
        "id": "Zm_daNeKwfqQ",
        "colab": {}
      },
      "source": [
        "cd .."
      ],
      "execution_count": 0,
      "outputs": []
    },
    {
      "cell_type": "code",
      "metadata": {
        "colab_type": "code",
        "id": "Waf-VocmwHlT",
        "colab": {}
      },
      "source": [
        "!wget --no-check-certificate -r  \"https://drive.google.com/uc?export=download&id=1cXF9pmVy9oz6hMCYRaXdk1d566JMZg-o\" -O assets/imgs.zip"
      ],
      "execution_count": 0,
      "outputs": []
    },
    {
      "cell_type": "code",
      "metadata": {
        "colab_type": "code",
        "id": "o4T4aonowc4h",
        "colab": {}
      },
      "source": [
        "cd assets"
      ],
      "execution_count": 0,
      "outputs": []
    },
    {
      "cell_type": "code",
      "metadata": {
        "colab_type": "code",
        "id": "uVaYlUjBwnx1",
        "colab": {}
      },
      "source": [
        "!unzip imgs.zip"
      ],
      "execution_count": 0,
      "outputs": []
    },
    {
      "cell_type": "code",
      "metadata": {
        "colab_type": "code",
        "id": "ZsG341nMwpqD",
        "colab": {}
      },
      "source": [
        "cd .."
      ],
      "execution_count": 0,
      "outputs": []
    },
    {
      "cell_type": "code",
      "metadata": {
        "colab_type": "code",
        "id": "dCrFpImFss1p",
        "pycharm": {
          "name": "#%%\n"
        },
        "colab": {}
      },
      "source": [
        "%%bash\n",
        "python run_swap.py --gpu_ids 0 --model imitator --output_dir ./outputs/results/  \\\n",
        "    --src_path      ./assets/src_imgs/internet/men1_256.jpg    \\\n",
        "    --tgt_path      ./assets/src_imgs/fashion_man/Sweatshirts_Hoodies-id_0000680701_4_full.jpg    \\\n",
        "    --bg_ks 7   --ft_ks 3 \\\n",
        "    --has_detector  --post_tune  --front_warp --swap_part body  \\\n",
        "    --save_res"
      ],
      "execution_count": 0,
      "outputs": []
    }
  ]
}