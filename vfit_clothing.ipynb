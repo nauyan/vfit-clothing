{
  "nbformat": 4,
  "nbformat_minor": 0,
  "metadata": {
    "accelerator": "GPU",
    "colab": {
      "name": "vfit-clothing.ipynb",
      "provenance": [],
      "include_colab_link": true
    },
    "kernelspec": {
      "display_name": "Python 3",
      "language": "python",
      "name": "python3"
    },
    "language_info": {
      "codemirror_mode": {
        "name": "ipython",
        "version": 3
      },
      "file_extension": ".py",
      "mimetype": "text/x-python",
      "name": "python",
      "nbconvert_exporter": "python",
      "pygments_lexer": "ipython3",
      "version": "3.7.6"
    },
    "pycharm": {
      "stem_cell": {
        "cell_type": "raw",
        "metadata": {
          "collapsed": false
        },
        "source": []
      }
    }
  },
  "cells": [
    {
      "cell_type": "markdown",
      "metadata": {
        "id": "view-in-github",
        "colab_type": "text"
      },
      "source": [
        "<a href=\"https://colab.research.google.com/github/nauyan/vfit-clothing/blob/master/vfit_clothing.ipynb\" target=\"_parent\"><img src=\"https://colab.research.google.com/assets/colab-badge.svg\" alt=\"Open In Colab\"/></a>"
      ]
    },
    {
      "cell_type": "code",
      "metadata": {
        "colab_type": "code",
        "id": "8VEE2lbHAaU6",
        "colab": {
          "base_uri": "https://localhost:8080/",
          "height": 34
        },
        "outputId": "92d48418-f4ee-44fa-ef9c-afeaf048e1b3"
      },
      "source": [
        "!git clone https://github.com/nauyan/vfit-clothing.git"
      ],
      "execution_count": 1,
      "outputs": [
        {
          "output_type": "stream",
          "text": [
            "fatal: destination path 'vfit-clothing' already exists and is not an empty directory.\n"
          ],
          "name": "stdout"
        }
      ]
    },
    {
      "cell_type": "code",
      "metadata": {
        "colab_type": "code",
        "id": "iqJFV169A8yU",
        "colab": {
          "base_uri": "https://localhost:8080/",
          "height": 34
        },
        "outputId": "d3a116f9-3dd1-4cab-e3f5-327101fef3a3"
      },
      "source": [
        "cd vfit-clothing/"
      ],
      "execution_count": 10,
      "outputs": [
        {
          "output_type": "stream",
          "text": [
            "/content/vfit-clothing\n"
          ],
          "name": "stdout"
        }
      ]
    },
    {
      "cell_type": "code",
      "metadata": {
        "colab_type": "code",
        "id": "Q5bzxmCIBEZR",
        "colab": {
          "base_uri": "https://localhost:8080/",
          "height": 904
        },
        "outputId": "8d510573-f984-4250-bd4c-837647636e22"
      },
      "source": [
        "!ls\n",
        "!pip install -r requirements.txt"
      ],
      "execution_count": 11,
      "outputs": [
        {
          "output_type": "stream",
          "text": [
            "data\t\t  models     requirements.txt  thirdparty  vfit_clothing.ipynb\n",
            "demo_imitator.py  networks   run_imitator.py   tools\t   vfit-clothing.ipynb\n",
            "demo_swap.py\t  options    run_swap.py       train.py\n",
            "demo_view.py\t  README.md  run_view.py       utils\n",
            "Requirement already satisfied: imageio==2.5.0 in /usr/local/lib/python3.6/dist-packages (from -r requirements.txt (line 1)) (2.5.0)\n",
            "Requirement already satisfied: tqdm==4.28.1 in /usr/local/lib/python3.6/dist-packages (from -r requirements.txt (line 2)) (4.28.1)\n",
            "Requirement already satisfied: setuptools==39.1.0 in /usr/local/lib/python3.6/dist-packages (from -r requirements.txt (line 3)) (39.1.0)\n",
            "Requirement already satisfied: numpy==1.14.5 in /usr/local/lib/python3.6/dist-packages (from -r requirements.txt (line 4)) (1.14.5)\n",
            "Requirement already satisfied: scipy==1.2.1 in /usr/local/lib/python3.6/dist-packages (from -r requirements.txt (line 5)) (1.2.1)\n",
            "Requirement already satisfied: torch==1.2.0 in /usr/local/lib/python3.6/dist-packages (from -r requirements.txt (line 6)) (1.2.0)\n",
            "Requirement already satisfied: torchvision==0.4.0 in /usr/local/lib/python3.6/dist-packages (from -r requirements.txt (line 7)) (0.4.0)\n",
            "Requirement already satisfied: h5py==2.8.0 in /usr/local/lib/python3.6/dist-packages (from -r requirements.txt (line 8)) (2.8.0)\n",
            "Requirement already satisfied: scikit_image==0.15.0 in /usr/local/lib/python3.6/dist-packages (from -r requirements.txt (line 9)) (0.15.0)\n",
            "Requirement already satisfied: visdom==0.1.8.9 in /usr/local/lib/python3.6/dist-packages (from -r requirements.txt (line 10)) (0.1.8.9)\n",
            "Requirement already satisfied: opencv_contrib_python==3.4.2.17 in /usr/local/lib/python3.6/dist-packages (from -r requirements.txt (line 11)) (3.4.2.17)\n",
            "Requirement already satisfied: matplotlib==3.1.1 in /usr/local/lib/python3.6/dist-packages (from -r requirements.txt (line 12)) (3.1.1)\n",
            "Requirement already satisfied: ipdb==0.12.2 in /usr/local/lib/python3.6/dist-packages (from -r requirements.txt (line 13)) (0.12.2)\n",
            "Requirement already satisfied: Pillow==6.2.0 in /usr/local/lib/python3.6/dist-packages (from -r requirements.txt (line 14)) (6.2.0)\n",
            "Requirement already satisfied: progressbar2==3.46.1 in /usr/local/lib/python3.6/dist-packages (from -r requirements.txt (line 15)) (3.46.1)\n",
            "Requirement already satisfied: tensorboardX==1.8 in /usr/local/lib/python3.6/dist-packages (from -r requirements.txt (line 16)) (1.8)\n",
            "Requirement already satisfied: six in /usr/local/lib/python3.6/dist-packages (from torchvision==0.4.0->-r requirements.txt (line 7)) (1.12.0)\n",
            "Requirement already satisfied: networkx>=2.0 in /usr/local/lib/python3.6/dist-packages (from scikit_image==0.15.0->-r requirements.txt (line 9)) (2.4)\n",
            "Requirement already satisfied: PyWavelets>=0.4.0 in /usr/local/lib/python3.6/dist-packages (from scikit_image==0.15.0->-r requirements.txt (line 9)) (1.1.1)\n",
            "Requirement already satisfied: websocket-client in /usr/local/lib/python3.6/dist-packages (from visdom==0.1.8.9->-r requirements.txt (line 10)) (0.57.0)\n",
            "Requirement already satisfied: jsonpatch in /usr/local/lib/python3.6/dist-packages (from visdom==0.1.8.9->-r requirements.txt (line 10)) (1.25)\n",
            "Requirement already satisfied: requests in /usr/local/lib/python3.6/dist-packages (from visdom==0.1.8.9->-r requirements.txt (line 10)) (2.21.0)\n",
            "Requirement already satisfied: torchfile in /usr/local/lib/python3.6/dist-packages (from visdom==0.1.8.9->-r requirements.txt (line 10)) (0.1.0)\n",
            "Requirement already satisfied: pyzmq in /usr/local/lib/python3.6/dist-packages (from visdom==0.1.8.9->-r requirements.txt (line 10)) (19.0.0)\n",
            "Requirement already satisfied: tornado in /usr/local/lib/python3.6/dist-packages (from visdom==0.1.8.9->-r requirements.txt (line 10)) (4.5.3)\n",
            "Requirement already satisfied: kiwisolver>=1.0.1 in /usr/local/lib/python3.6/dist-packages (from matplotlib==3.1.1->-r requirements.txt (line 12)) (1.2.0)\n",
            "Requirement already satisfied: cycler>=0.10 in /usr/local/lib/python3.6/dist-packages (from matplotlib==3.1.1->-r requirements.txt (line 12)) (0.10.0)\n",
            "Requirement already satisfied: pyparsing!=2.0.4,!=2.1.2,!=2.1.6,>=2.0.1 in /usr/local/lib/python3.6/dist-packages (from matplotlib==3.1.1->-r requirements.txt (line 12)) (2.4.7)\n",
            "Requirement already satisfied: python-dateutil>=2.1 in /usr/local/lib/python3.6/dist-packages (from matplotlib==3.1.1->-r requirements.txt (line 12)) (2.8.1)\n",
            "Requirement already satisfied: ipython>=5.1.0; python_version >= \"3.4\" in /usr/local/lib/python3.6/dist-packages (from ipdb==0.12.2->-r requirements.txt (line 13)) (5.5.0)\n",
            "Requirement already satisfied: python-utils>=2.3.0 in /usr/local/lib/python3.6/dist-packages (from progressbar2==3.46.1->-r requirements.txt (line 15)) (2.4.0)\n",
            "Requirement already satisfied: protobuf>=3.2.0 in /usr/local/lib/python3.6/dist-packages (from tensorboardX==1.8->-r requirements.txt (line 16)) (3.10.0)\n",
            "Requirement already satisfied: decorator>=4.3.0 in /usr/local/lib/python3.6/dist-packages (from networkx>=2.0->scikit_image==0.15.0->-r requirements.txt (line 9)) (4.4.2)\n",
            "Requirement already satisfied: jsonpointer>=1.9 in /usr/local/lib/python3.6/dist-packages (from jsonpatch->visdom==0.1.8.9->-r requirements.txt (line 10)) (2.0)\n",
            "Requirement already satisfied: urllib3<1.25,>=1.21.1 in /usr/local/lib/python3.6/dist-packages (from requests->visdom==0.1.8.9->-r requirements.txt (line 10)) (1.24.3)\n",
            "Requirement already satisfied: idna<2.9,>=2.5 in /usr/local/lib/python3.6/dist-packages (from requests->visdom==0.1.8.9->-r requirements.txt (line 10)) (2.8)\n",
            "Requirement already satisfied: chardet<3.1.0,>=3.0.2 in /usr/local/lib/python3.6/dist-packages (from requests->visdom==0.1.8.9->-r requirements.txt (line 10)) (3.0.4)\n",
            "Requirement already satisfied: certifi>=2017.4.17 in /usr/local/lib/python3.6/dist-packages (from requests->visdom==0.1.8.9->-r requirements.txt (line 10)) (2020.4.5.1)\n",
            "Requirement already satisfied: prompt-toolkit<2.0.0,>=1.0.4 in /usr/local/lib/python3.6/dist-packages (from ipython>=5.1.0; python_version >= \"3.4\"->ipdb==0.12.2->-r requirements.txt (line 13)) (1.0.18)\n",
            "Requirement already satisfied: traitlets>=4.2 in /usr/local/lib/python3.6/dist-packages (from ipython>=5.1.0; python_version >= \"3.4\"->ipdb==0.12.2->-r requirements.txt (line 13)) (4.3.3)\n",
            "Requirement already satisfied: simplegeneric>0.8 in /usr/local/lib/python3.6/dist-packages (from ipython>=5.1.0; python_version >= \"3.4\"->ipdb==0.12.2->-r requirements.txt (line 13)) (0.8.1)\n",
            "Requirement already satisfied: pygments in /usr/local/lib/python3.6/dist-packages (from ipython>=5.1.0; python_version >= \"3.4\"->ipdb==0.12.2->-r requirements.txt (line 13)) (2.1.3)\n",
            "Requirement already satisfied: pickleshare in /usr/local/lib/python3.6/dist-packages (from ipython>=5.1.0; python_version >= \"3.4\"->ipdb==0.12.2->-r requirements.txt (line 13)) (0.7.5)\n",
            "Requirement already satisfied: pexpect; sys_platform != \"win32\" in /usr/local/lib/python3.6/dist-packages (from ipython>=5.1.0; python_version >= \"3.4\"->ipdb==0.12.2->-r requirements.txt (line 13)) (4.8.0)\n",
            "Requirement already satisfied: wcwidth in /usr/local/lib/python3.6/dist-packages (from prompt-toolkit<2.0.0,>=1.0.4->ipython>=5.1.0; python_version >= \"3.4\"->ipdb==0.12.2->-r requirements.txt (line 13)) (0.1.9)\n",
            "Requirement already satisfied: ipython-genutils in /usr/local/lib/python3.6/dist-packages (from traitlets>=4.2->ipython>=5.1.0; python_version >= \"3.4\"->ipdb==0.12.2->-r requirements.txt (line 13)) (0.2.0)\n",
            "Requirement already satisfied: ptyprocess>=0.5 in /usr/local/lib/python3.6/dist-packages (from pexpect; sys_platform != \"win32\"->ipython>=5.1.0; python_version >= \"3.4\"->ipdb==0.12.2->-r requirements.txt (line 13)) (0.6.0)\n"
          ],
          "name": "stdout"
        }
      ]
    },
    {
      "cell_type": "code",
      "metadata": {
        "colab_type": "code",
        "id": "0hITOMy0BIEg",
        "colab": {
          "base_uri": "https://localhost:8080/",
          "height": 34
        },
        "outputId": "6c30a640-3824-41df-ba83-55b5d6b8202c"
      },
      "source": [
        "cd thirdparty/neural_renderer"
      ],
      "execution_count": 12,
      "outputs": [
        {
          "output_type": "stream",
          "text": [
            "/content/vfit-clothing/thirdparty/neural_renderer\n"
          ],
          "name": "stdout"
        }
      ]
    },
    {
      "cell_type": "code",
      "metadata": {
        "colab_type": "code",
        "id": "v7YtWs_BB_oj",
        "colab": {
          "base_uri": "https://localhost:8080/",
          "height": 1000
        },
        "outputId": "34388522-ce41-4aec-a21a-2ab2bf27bd25"
      },
      "source": [
        "!python setup.py install"
      ],
      "execution_count": 13,
      "outputs": [
        {
          "output_type": "stream",
          "text": [
            "running install\n",
            "running bdist_egg\n",
            "running egg_info\n",
            "writing neural_renderer.egg-info/PKG-INFO\n",
            "writing dependency_links to neural_renderer.egg-info/dependency_links.txt\n",
            "writing requirements to neural_renderer.egg-info/requires.txt\n",
            "writing top-level names to neural_renderer.egg-info/top_level.txt\n",
            "writing manifest file 'neural_renderer.egg-info/SOURCES.txt'\n",
            "installing library code to build/bdist.linux-x86_64/egg\n",
            "running install_lib\n",
            "running build_py\n",
            "running build_ext\n",
            "creating build/bdist.linux-x86_64/egg\n",
            "creating build/bdist.linux-x86_64/egg/neural_renderer\n",
            "copying build/lib.linux-x86_64-3.6/neural_renderer/__init__.py -> build/bdist.linux-x86_64/egg/neural_renderer\n",
            "copying build/lib.linux-x86_64-3.6/neural_renderer/vertices_to_faces.py -> build/bdist.linux-x86_64/egg/neural_renderer\n",
            "copying build/lib.linux-x86_64-3.6/neural_renderer/look.py -> build/bdist.linux-x86_64/egg/neural_renderer\n",
            "copying build/lib.linux-x86_64-3.6/neural_renderer/look_at.py -> build/bdist.linux-x86_64/egg/neural_renderer\n",
            "copying build/lib.linux-x86_64-3.6/neural_renderer/get_points_from_angles.py -> build/bdist.linux-x86_64/egg/neural_renderer\n",
            "copying build/lib.linux-x86_64-3.6/neural_renderer/renderer.py -> build/bdist.linux-x86_64/egg/neural_renderer\n",
            "copying build/lib.linux-x86_64-3.6/neural_renderer/projection.py -> build/bdist.linux-x86_64/egg/neural_renderer\n",
            "copying build/lib.linux-x86_64-3.6/neural_renderer/rasterize.py -> build/bdist.linux-x86_64/egg/neural_renderer\n",
            "creating build/bdist.linux-x86_64/egg/neural_renderer/cuda\n",
            "copying build/lib.linux-x86_64-3.6/neural_renderer/cuda/__init__.py -> build/bdist.linux-x86_64/egg/neural_renderer/cuda\n",
            "copying build/lib.linux-x86_64-3.6/neural_renderer/cuda/create_texture_image.cpython-36m-x86_64-linux-gnu.so -> build/bdist.linux-x86_64/egg/neural_renderer/cuda\n",
            "copying build/lib.linux-x86_64-3.6/neural_renderer/cuda/rasterize.py -> build/bdist.linux-x86_64/egg/neural_renderer/cuda\n",
            "copying build/lib.linux-x86_64-3.6/neural_renderer/cuda/rasterize.cpython-36m-x86_64-linux-gnu.so -> build/bdist.linux-x86_64/egg/neural_renderer/cuda\n",
            "copying build/lib.linux-x86_64-3.6/neural_renderer/cuda/load_textures.py -> build/bdist.linux-x86_64/egg/neural_renderer/cuda\n",
            "copying build/lib.linux-x86_64-3.6/neural_renderer/cuda/load_textures.cpython-36m-x86_64-linux-gnu.so -> build/bdist.linux-x86_64/egg/neural_renderer/cuda\n",
            "copying build/lib.linux-x86_64-3.6/neural_renderer/cuda/create_texture_image.py -> build/bdist.linux-x86_64/egg/neural_renderer/cuda\n",
            "copying build/lib.linux-x86_64-3.6/neural_renderer/load_obj.py -> build/bdist.linux-x86_64/egg/neural_renderer\n",
            "copying build/lib.linux-x86_64-3.6/neural_renderer/save_obj.py -> build/bdist.linux-x86_64/egg/neural_renderer\n",
            "copying build/lib.linux-x86_64-3.6/neural_renderer/lighting.py -> build/bdist.linux-x86_64/egg/neural_renderer\n",
            "copying build/lib.linux-x86_64-3.6/neural_renderer/perspective.py -> build/bdist.linux-x86_64/egg/neural_renderer\n",
            "copying build/lib.linux-x86_64-3.6/neural_renderer/mesh.py -> build/bdist.linux-x86_64/egg/neural_renderer\n",
            "copying build/lib.linux-x86_64-3.6/neural_renderer/rasterize_test.py -> build/bdist.linux-x86_64/egg/neural_renderer\n",
            "byte-compiling build/bdist.linux-x86_64/egg/neural_renderer/__init__.py to __init__.cpython-36.pyc\n",
            "byte-compiling build/bdist.linux-x86_64/egg/neural_renderer/vertices_to_faces.py to vertices_to_faces.cpython-36.pyc\n",
            "byte-compiling build/bdist.linux-x86_64/egg/neural_renderer/look.py to look.cpython-36.pyc\n",
            "byte-compiling build/bdist.linux-x86_64/egg/neural_renderer/look_at.py to look_at.cpython-36.pyc\n",
            "byte-compiling build/bdist.linux-x86_64/egg/neural_renderer/get_points_from_angles.py to get_points_from_angles.cpython-36.pyc\n",
            "byte-compiling build/bdist.linux-x86_64/egg/neural_renderer/renderer.py to renderer.cpython-36.pyc\n",
            "byte-compiling build/bdist.linux-x86_64/egg/neural_renderer/projection.py to projection.cpython-36.pyc\n",
            "byte-compiling build/bdist.linux-x86_64/egg/neural_renderer/rasterize.py to rasterize.cpython-36.pyc\n",
            "byte-compiling build/bdist.linux-x86_64/egg/neural_renderer/cuda/__init__.py to __init__.cpython-36.pyc\n",
            "byte-compiling build/bdist.linux-x86_64/egg/neural_renderer/cuda/rasterize.py to rasterize.cpython-36.pyc\n",
            "byte-compiling build/bdist.linux-x86_64/egg/neural_renderer/cuda/load_textures.py to load_textures.cpython-36.pyc\n",
            "byte-compiling build/bdist.linux-x86_64/egg/neural_renderer/cuda/create_texture_image.py to create_texture_image.cpython-36.pyc\n",
            "byte-compiling build/bdist.linux-x86_64/egg/neural_renderer/load_obj.py to load_obj.cpython-36.pyc\n",
            "byte-compiling build/bdist.linux-x86_64/egg/neural_renderer/save_obj.py to save_obj.cpython-36.pyc\n",
            "byte-compiling build/bdist.linux-x86_64/egg/neural_renderer/lighting.py to lighting.cpython-36.pyc\n",
            "byte-compiling build/bdist.linux-x86_64/egg/neural_renderer/perspective.py to perspective.cpython-36.pyc\n",
            "byte-compiling build/bdist.linux-x86_64/egg/neural_renderer/mesh.py to mesh.cpython-36.pyc\n",
            "byte-compiling build/bdist.linux-x86_64/egg/neural_renderer/rasterize_test.py to rasterize_test.cpython-36.pyc\n",
            "creating stub loader for neural_renderer/cuda/load_textures.cpython-36m-x86_64-linux-gnu.so\n",
            "creating stub loader for neural_renderer/cuda/rasterize.cpython-36m-x86_64-linux-gnu.so\n",
            "creating stub loader for neural_renderer/cuda/create_texture_image.cpython-36m-x86_64-linux-gnu.so\n",
            "creating build/bdist.linux-x86_64/egg/EGG-INFO\n",
            "copying neural_renderer.egg-info/PKG-INFO -> build/bdist.linux-x86_64/egg/EGG-INFO\n",
            "copying neural_renderer.egg-info/SOURCES.txt -> build/bdist.linux-x86_64/egg/EGG-INFO\n",
            "copying neural_renderer.egg-info/dependency_links.txt -> build/bdist.linux-x86_64/egg/EGG-INFO\n",
            "copying neural_renderer.egg-info/requires.txt -> build/bdist.linux-x86_64/egg/EGG-INFO\n",
            "copying neural_renderer.egg-info/top_level.txt -> build/bdist.linux-x86_64/egg/EGG-INFO\n",
            "writing build/bdist.linux-x86_64/egg/EGG-INFO/native_libs.txt\n",
            "zip_safe flag not set; analyzing archive contents...\n",
            "neural_renderer.cuda.__pycache__.create_texture_image.cpython-36: module references __file__\n",
            "neural_renderer.cuda.__pycache__.load_textures.cpython-36: module references __file__\n",
            "neural_renderer.cuda.__pycache__.rasterize.cpython-36: module references __file__\n",
            "creating 'dist/neural_renderer-1.1.3-py3.6-linux-x86_64.egg' and adding 'build/bdist.linux-x86_64/egg' to it\n",
            "removing 'build/bdist.linux-x86_64/egg' (and everything under it)\n",
            "Processing neural_renderer-1.1.3-py3.6-linux-x86_64.egg\n",
            "removing '/usr/local/lib/python3.6/dist-packages/neural_renderer-1.1.3-py3.6-linux-x86_64.egg' (and everything under it)\n",
            "creating /usr/local/lib/python3.6/dist-packages/neural_renderer-1.1.3-py3.6-linux-x86_64.egg\n",
            "Extracting neural_renderer-1.1.3-py3.6-linux-x86_64.egg to /usr/local/lib/python3.6/dist-packages\n",
            "neural-renderer 1.1.3 is already the active version in easy-install.pth\n",
            "\n",
            "Installed /usr/local/lib/python3.6/dist-packages/neural_renderer-1.1.3-py3.6-linux-x86_64.egg\n",
            "Processing dependencies for neural-renderer==1.1.3\n",
            "Searching for imageio==2.5.0\n",
            "Best match: imageio 2.5.0\n",
            "Adding imageio 2.5.0 to easy-install.pth file\n",
            "Installing imageio_download_bin script to /usr/local/bin\n",
            "Installing imageio_remove_bin script to /usr/local/bin\n",
            "\n",
            "Using /usr/local/lib/python3.6/dist-packages\n",
            "Searching for tqdm==4.28.1\n",
            "Best match: tqdm 4.28.1\n",
            "Adding tqdm 4.28.1 to easy-install.pth file\n",
            "Installing tqdm script to /usr/local/bin\n",
            "\n",
            "Using /usr/local/lib/python3.6/dist-packages\n",
            "Searching for scikit-image==0.15.0\n",
            "Best match: scikit-image 0.15.0\n",
            "Adding scikit-image 0.15.0 to easy-install.pth file\n",
            "Installing skivi script to /usr/local/bin\n",
            "\n",
            "Using /usr/local/lib/python3.6/dist-packages\n",
            "Searching for torchvision==0.4.0\n",
            "Best match: torchvision 0.4.0\n",
            "Adding torchvision 0.4.0 to easy-install.pth file\n",
            "\n",
            "Using /usr/local/lib/python3.6/dist-packages\n",
            "Searching for torch==1.2.0\n",
            "Best match: torch 1.2.0\n",
            "Adding torch 1.2.0 to easy-install.pth file\n",
            "Installing convert-caffe2-to-onnx script to /usr/local/bin\n",
            "Installing convert-onnx-to-caffe2 script to /usr/local/bin\n",
            "\n",
            "Using /usr/local/lib/python3.6/dist-packages\n",
            "Searching for numpy==1.14.5\n",
            "Best match: numpy 1.14.5\n",
            "Adding numpy 1.14.5 to easy-install.pth file\n",
            "\n",
            "Using /usr/local/lib/python3.6/dist-packages\n",
            "Searching for Pillow==6.2.0\n",
            "Best match: Pillow 6.2.0\n",
            "Adding Pillow 6.2.0 to easy-install.pth file\n",
            "\n",
            "Using /usr/local/lib/python3.6/dist-packages\n",
            "Searching for networkx==2.4\n",
            "Best match: networkx 2.4\n",
            "Adding networkx 2.4 to easy-install.pth file\n",
            "\n",
            "Using /usr/local/lib/python3.6/dist-packages\n",
            "Searching for PyWavelets==1.1.1\n",
            "Best match: PyWavelets 1.1.1\n",
            "Adding PyWavelets 1.1.1 to easy-install.pth file\n",
            "\n",
            "Using /usr/local/lib/python3.6/dist-packages\n",
            "Searching for scipy==1.2.1\n",
            "Best match: scipy 1.2.1\n",
            "Adding scipy 1.2.1 to easy-install.pth file\n",
            "\n",
            "Using /usr/local/lib/python3.6/dist-packages\n",
            "Searching for matplotlib==3.1.1\n",
            "Best match: matplotlib 3.1.1\n",
            "Adding matplotlib 3.1.1 to easy-install.pth file\n",
            "\n",
            "Using /usr/local/lib/python3.6/dist-packages\n",
            "Searching for six==1.12.0\n",
            "Best match: six 1.12.0\n",
            "Adding six 1.12.0 to easy-install.pth file\n",
            "\n",
            "Using /usr/local/lib/python3.6/dist-packages\n",
            "Searching for decorator==4.4.2\n",
            "Best match: decorator 4.4.2\n",
            "Adding decorator 4.4.2 to easy-install.pth file\n",
            "\n",
            "Using /usr/local/lib/python3.6/dist-packages\n",
            "Searching for python-dateutil==2.8.1\n",
            "Best match: python-dateutil 2.8.1\n",
            "Adding python-dateutil 2.8.1 to easy-install.pth file\n",
            "\n",
            "Using /usr/local/lib/python3.6/dist-packages\n",
            "Searching for pyparsing==2.4.7\n",
            "Best match: pyparsing 2.4.7\n",
            "Adding pyparsing 2.4.7 to easy-install.pth file\n",
            "\n",
            "Using /usr/local/lib/python3.6/dist-packages\n",
            "Searching for kiwisolver==1.2.0\n",
            "Best match: kiwisolver 1.2.0\n",
            "Adding kiwisolver 1.2.0 to easy-install.pth file\n",
            "\n",
            "Using /usr/local/lib/python3.6/dist-packages\n",
            "Searching for cycler==0.10.0\n",
            "Best match: cycler 0.10.0\n",
            "Adding cycler 0.10.0 to easy-install.pth file\n",
            "\n",
            "Using /usr/local/lib/python3.6/dist-packages\n",
            "Finished processing dependencies for neural-renderer==1.1.3\n"
          ],
          "name": "stdout"
        }
      ]
    },
    {
      "cell_type": "code",
      "metadata": {
        "colab_type": "code",
        "id": "L2Zk_k5zQBAz",
        "colab": {
          "base_uri": "https://localhost:8080/",
          "height": 34
        },
        "outputId": "6d0c5acc-bc75-4a7c-85ee-692e6e290e70"
      },
      "source": [
        "cd ../.."
      ],
      "execution_count": 14,
      "outputs": [
        {
          "output_type": "stream",
          "text": [
            "/content/vfit-clothing\n"
          ],
          "name": "stdout"
        }
      ]
    },
    {
      "cell_type": "code",
      "metadata": {
        "id": "fh_XgGEUf0HC",
        "colab_type": "code",
        "colab": {}
      },
      "source": [
        "mkdir assets"
      ],
      "execution_count": 0,
      "outputs": []
    },
    {
      "cell_type": "code",
      "metadata": {
        "colab_type": "code",
        "id": "BsrST13RCBrJ",
        "colab": {
          "base_uri": "https://localhost:8080/",
          "height": 1000
        },
        "outputId": "67ba920b-12a4-4d39-a500-5f2f8933fe9b"
      },
      "source": [
        "!wget --no-check-certificate -r  \"https://drive.google.com/uc?export=download&id=1gpZmI6fyNBaMC_LxxTaBMzyiPkeCxILu\" -O assets/pretrains.zip"
      ],
      "execution_count": 16,
      "outputs": [
        {
          "output_type": "stream",
          "text": [
            "WARNING: combining -O with -r or -p will mean that all downloaded content\n",
            "will be placed in the single file you specified.\n",
            "\n",
            "--2020-04-16 19:38:26--  https://drive.google.com/uc?export=download&id=1gpZmI6fyNBaMC_LxxTaBMzyiPkeCxILu\n",
            "Resolving drive.google.com (drive.google.com)... 173.194.69.100, 173.194.69.101, 173.194.69.139, ...\n",
            "Connecting to drive.google.com (drive.google.com)|173.194.69.100|:443... connected.\n",
            "HTTP request sent, awaiting response... 200 OK\n",
            "Length: unspecified [text/html]\n",
            "Saving to: ‘assets/pretrains.zip’\n",
            "\n",
            "\rassets/pretrains.zi     [<=>                 ]       0  --.-KB/s               \rassets/pretrains.zi     [ <=>                ]   3.17K  --.-KB/s    in 0s      \n",
            "\n",
            "2020-04-16 19:38:26 (47.3 MB/s) - ‘assets/pretrains.zip’ saved [3251]\n",
            "\n",
            "Loading robots.txt; please ignore errors.\n",
            "--2020-04-16 19:38:26--  https://drive.google.com/robots.txt\n",
            "Reusing existing connection to drive.google.com:443.\n",
            "HTTP request sent, awaiting response... 200 OK\n",
            "Length: unspecified [text/plain]\n",
            "Saving to: ‘assets/pretrains.zip’\n",
            "\n",
            "\rassets/pretrains.zi     [<=>                 ]       0  --.-KB/s               \rassets/pretrains.zi     [ <=>                ]     570  --.-KB/s    in 0s      \n",
            "\n",
            "2020-04-16 19:38:26 (99.4 MB/s) - ‘assets/pretrains.zip’ saved [570]\n",
            "\n",
            "--2020-04-16 19:38:26--  https://drive.google.com/static/doclist/client/css/3114378575-untrustedcontent.css\n",
            "Reusing existing connection to drive.google.com:443.\n",
            "HTTP request sent, awaiting response... 200 OK\n",
            "Length: 272455 (266K) [text/css]\n",
            "Saving to: ‘assets/pretrains.zip’\n",
            "\n",
            "\rassets/pretrains.zi   0%[                    ]       0  --.-KB/s               \rassets/pretrains.zi 100%[===================>] 266.07K  --.-KB/s    in 0.002s  \n",
            "\n",
            "2020-04-16 19:38:26 (140 MB/s) - ‘assets/pretrains.zip’ saved [272455/272455]\n",
            "\n",
            "--2020-04-16 19:38:26--  https://drive.google.com/settings?hl=en_US\n",
            "Reusing existing connection to drive.google.com:443.\n",
            "HTTP request sent, awaiting response... 302 Found\n",
            "Location: https://accounts.google.com/ServiceLogin?service=wise&passive=1209600&continue=https://drive.google.com/settings?hl%3Den_US&followup=https://drive.google.com/settings?hl%3Den_US&hl=en_US [following]\n",
            "--2020-04-16 19:38:26--  https://accounts.google.com/ServiceLogin?service=wise&passive=1209600&continue=https://drive.google.com/settings?hl%3Den_US&followup=https://drive.google.com/settings?hl%3Den_US&hl=en_US\n",
            "Resolving accounts.google.com (accounts.google.com)... 172.217.218.84, 2a00:1450:4013:c01::54\n",
            "Connecting to accounts.google.com (accounts.google.com)|172.217.218.84|:443... connected.\n",
            "HTTP request sent, awaiting response... 200 OK\n",
            "Length: unspecified [text/html]\n",
            "Saving to: ‘assets/pretrains.zip’\n",
            "\n",
            "\rassets/pretrains.zi     [<=>                 ]       0  --.-KB/s               \rassets/pretrains.zi     [ <=>                ]  55.91K  --.-KB/s    in 0.001s  \n",
            "\n",
            "2020-04-16 19:38:26 (56.8 MB/s) - ‘assets/pretrains.zip’ saved [57249]\n",
            "\n",
            "--2020-04-16 19:38:26--  https://drive.google.com/open?id=1gpZmI6fyNBaMC_LxxTaBMzyiPkeCxILu\n",
            "Connecting to drive.google.com (drive.google.com)|173.194.69.100|:443... connected.\n",
            "HTTP request sent, awaiting response... 307 Temporary Redirect\n",
            "Location: https://drive.google.com/file/d/1gpZmI6fyNBaMC_LxxTaBMzyiPkeCxILu/view?usp=drive_open [following]\n",
            "--2020-04-16 19:38:26--  https://drive.google.com/file/d/1gpZmI6fyNBaMC_LxxTaBMzyiPkeCxILu/view?usp=drive_open\n",
            "Reusing existing connection to drive.google.com:443.\n",
            "HTTP request sent, awaiting response... 200 OK\n",
            "Length: unspecified [text/html]\n",
            "Saving to: ‘assets/pretrains.zip’\n",
            "\n",
            "\rassets/pretrains.zi     [<=>                 ]       0  --.-KB/s               \rassets/pretrains.zi     [ <=>                ]  67.97K  --.-KB/s    in 0.03s   \n",
            "\n",
            "2020-04-16 19:38:27 (2.44 MB/s) - ‘assets/pretrains.zip’ saved [69597]\n",
            "\n",
            "--2020-04-16 19:38:27--  https://drive.google.com/uc?export=download&confirm=Kmh3&id=1gpZmI6fyNBaMC_LxxTaBMzyiPkeCxILu\n",
            "Reusing existing connection to drive.google.com:443.\n",
            "HTTP request sent, awaiting response... 302 Moved Temporarily\n",
            "Location: https://doc-0k-bo-docs.googleusercontent.com/docs/securesc/edj24338o4gg54u5e2vm8cms2u01fd56/09drsjht6q28rjsha5gg9j1scvlk7ms7/1587065850000/08757598759635337816/03003402655423338690Z/1gpZmI6fyNBaMC_LxxTaBMzyiPkeCxILu?e=download [following]\n",
            "--2020-04-16 19:38:27--  https://doc-0k-bo-docs.googleusercontent.com/docs/securesc/edj24338o4gg54u5e2vm8cms2u01fd56/09drsjht6q28rjsha5gg9j1scvlk7ms7/1587065850000/08757598759635337816/03003402655423338690Z/1gpZmI6fyNBaMC_LxxTaBMzyiPkeCxILu?e=download\n",
            "Resolving doc-0k-bo-docs.googleusercontent.com (doc-0k-bo-docs.googleusercontent.com)... 173.194.79.132, 2a00:1450:4013:c05::84\n",
            "Connecting to doc-0k-bo-docs.googleusercontent.com (doc-0k-bo-docs.googleusercontent.com)|173.194.79.132|:443... connected.\n",
            "HTTP request sent, awaiting response... 302 Found\n",
            "Location: https://docs.google.com/nonceSigner?nonce=f2tfehb4k7vo4&continue=https://doc-0k-bo-docs.googleusercontent.com/docs/securesc/edj24338o4gg54u5e2vm8cms2u01fd56/09drsjht6q28rjsha5gg9j1scvlk7ms7/1587065850000/08757598759635337816/03003402655423338690Z/1gpZmI6fyNBaMC_LxxTaBMzyiPkeCxILu?e%3Ddownload&hash=sniumh53i1frv2o4ov88h68p9quid62a [following]\n",
            "--2020-04-16 19:38:27--  https://docs.google.com/nonceSigner?nonce=f2tfehb4k7vo4&continue=https://doc-0k-bo-docs.googleusercontent.com/docs/securesc/edj24338o4gg54u5e2vm8cms2u01fd56/09drsjht6q28rjsha5gg9j1scvlk7ms7/1587065850000/08757598759635337816/03003402655423338690Z/1gpZmI6fyNBaMC_LxxTaBMzyiPkeCxILu?e%3Ddownload&hash=sniumh53i1frv2o4ov88h68p9quid62a\n",
            "Resolving docs.google.com (docs.google.com)... 108.177.119.113, 108.177.119.102, 108.177.119.100, ...\n",
            "Connecting to docs.google.com (docs.google.com)|108.177.119.113|:443... connected.\n",
            "HTTP request sent, awaiting response... 302 Found\n",
            "Location: https://doc-0k-bo-docs.googleusercontent.com/docs/securesc/edj24338o4gg54u5e2vm8cms2u01fd56/09drsjht6q28rjsha5gg9j1scvlk7ms7/1587065850000/08757598759635337816/03003402655423338690Z/1gpZmI6fyNBaMC_LxxTaBMzyiPkeCxILu?e=download&nonce=f2tfehb4k7vo4&user=03003402655423338690Z&hash=umgd1i90glvrvpha45sc7gqot8bg2fst [following]\n",
            "--2020-04-16 19:38:27--  https://doc-0k-bo-docs.googleusercontent.com/docs/securesc/edj24338o4gg54u5e2vm8cms2u01fd56/09drsjht6q28rjsha5gg9j1scvlk7ms7/1587065850000/08757598759635337816/03003402655423338690Z/1gpZmI6fyNBaMC_LxxTaBMzyiPkeCxILu?e=download&nonce=f2tfehb4k7vo4&user=03003402655423338690Z&hash=umgd1i90glvrvpha45sc7gqot8bg2fst\n",
            "Connecting to doc-0k-bo-docs.googleusercontent.com (doc-0k-bo-docs.googleusercontent.com)|173.194.79.132|:443... connected.\n",
            "HTTP request sent, awaiting response... 200 OK\n",
            "Length: unspecified [application/zip]\n",
            "Saving to: ‘assets/pretrains.zip’\n",
            "\n",
            "\rassets/pretrains.zi     [<=>                 ]       0  --.-KB/s               \rassets/pretrains.zi     [ <=>                ]   4.01M  15.2MB/s               \rassets/pretrains.zi     [  <=>               ]   8.01M  16.3MB/s               \rassets/pretrains.zi     [   <=>              ]  40.94M  59.2MB/s               \rassets/pretrains.zi     [    <=>             ]  48.01M  51.0MB/s               \rassets/pretrains.zi     [     <=>            ]  56.01M  44.8MB/s               \rassets/pretrains.zi     [      <=>           ]  88.01M  51.1MB/s               \rassets/pretrains.zi     [       <=>          ] 120.01M  57.6MB/s               \rassets/pretrains.zi     [        <=>         ] 146.49M  64.1MB/s               \rassets/pretrains.zi     [         <=>        ] 160.01M  63.2MB/s               \rassets/pretrains.zi     [          <=>       ] 162.83M  64.1MB/s    in 2.5s    \n",
            "\n",
            "2020-04-16 19:38:30 (64.1 MB/s) - ‘assets/pretrains.zip’ saved [170739209]\n",
            "\n",
            "FINISHED --2020-04-16 19:38:30--\n",
            "Total wall clock time: 4.6s\n",
            "Downloaded: 6 files, 163M in 2.6s (63.5 MB/s)\n"
          ],
          "name": "stdout"
        }
      ]
    },
    {
      "cell_type": "code",
      "metadata": {
        "colab_type": "code",
        "id": "QY66SAXqvgTC",
        "colab": {
          "base_uri": "https://localhost:8080/",
          "height": 34
        },
        "outputId": "7cfc54a7-eae7-40a9-9559-f6ac635962c4"
      },
      "source": [
        "cd assets"
      ],
      "execution_count": 17,
      "outputs": [
        {
          "output_type": "stream",
          "text": [
            "/content/vfit-clothing/assets\n"
          ],
          "name": "stdout"
        }
      ]
    },
    {
      "cell_type": "code",
      "metadata": {
        "colab_type": "code",
        "id": "VfInCx-lviCl",
        "colab": {
          "base_uri": "https://localhost:8080/",
          "height": 238
        },
        "outputId": "561f5dc5-7539-4d33-dc54-b54df50d03cd"
      },
      "source": [
        "!unzip pretrains.zip"
      ],
      "execution_count": 18,
      "outputs": [
        {
          "output_type": "stream",
          "text": [
            "Archive:  pretrains.zip\n",
            "warning [pretrains.zip]:  403122 extra bytes at beginning or within zipfile\n",
            "  (attempting to process anyway)\n",
            "   creating: pretrains/\n",
            "  inflating: pretrains/front_facial.json  \n",
            "  inflating: pretrains/front_facial_larger.json  \n",
            "  inflating: pretrains/head.json     \n",
            "  inflating: pretrains/hmr_tf2pt.pth  \n",
            "  inflating: pretrains/mapper.txt    \n",
            "  inflating: pretrains/smpl_faces.npy  \n",
            "  inflating: pretrains/smpl_model.pkl  \n",
            "  inflating: pretrains/smpl_part_info.json  \n",
            "  inflating: pretrains/sphere20a_20171020.pth  \n"
          ],
          "name": "stdout"
        }
      ]
    },
    {
      "cell_type": "code",
      "metadata": {
        "colab_type": "code",
        "id": "4qd5Dx7Nvoo8",
        "colab": {
          "base_uri": "https://localhost:8080/",
          "height": 34
        },
        "outputId": "f73c2ed6-f0b7-4f89-dd8d-3c89e7979cc8"
      },
      "source": [
        "cd .."
      ],
      "execution_count": 19,
      "outputs": [
        {
          "output_type": "stream",
          "text": [
            "/content/vfit-clothing\n"
          ],
          "name": "stdout"
        }
      ]
    },
    {
      "cell_type": "code",
      "metadata": {
        "id": "rpbZYGrBgFf4",
        "colab_type": "code",
        "colab": {}
      },
      "source": [
        "mkdir outputs"
      ],
      "execution_count": 0,
      "outputs": []
    },
    {
      "cell_type": "code",
      "metadata": {
        "colab_type": "code",
        "id": "L15STTOqq4Uw",
        "colab": {
          "base_uri": "https://localhost:8080/",
          "height": 1000
        },
        "outputId": "e73af4a6-6690-464f-e404-dcd924d5db6b"
      },
      "source": [
        "!wget --no-check-certificate -r  \"https://drive.google.com/uc?export=download&id=1cXF9pmVy9oz6hMCYRaXdk1d566JMZg-o\" -O outputs/checkpoints.zip"
      ],
      "execution_count": 21,
      "outputs": [
        {
          "output_type": "stream",
          "text": [
            "WARNING: combining -O with -r or -p will mean that all downloaded content\n",
            "will be placed in the single file you specified.\n",
            "\n",
            "--2020-04-16 19:39:18--  https://drive.google.com/uc?export=download&id=1cXF9pmVy9oz6hMCYRaXdk1d566JMZg-o\n",
            "Resolving drive.google.com (drive.google.com)... 173.194.69.101, 173.194.69.113, 173.194.69.102, ...\n",
            "Connecting to drive.google.com (drive.google.com)|173.194.69.101|:443... connected.\n",
            "HTTP request sent, awaiting response... 200 OK\n",
            "Length: unspecified [text/html]\n",
            "Saving to: ‘outputs/checkpoints.zip’\n",
            "\n",
            "\routputs/checkpoints     [<=>                 ]       0  --.-KB/s               \routputs/checkpoints     [ <=>                ]   3.18K  --.-KB/s    in 0s      \n",
            "\n",
            "2020-04-16 19:39:18 (44.6 MB/s) - ‘outputs/checkpoints.zip’ saved [3253]\n",
            "\n",
            "Loading robots.txt; please ignore errors.\n",
            "--2020-04-16 19:39:18--  https://drive.google.com/robots.txt\n",
            "Reusing existing connection to drive.google.com:443.\n",
            "HTTP request sent, awaiting response... 200 OK\n",
            "Length: unspecified [text/plain]\n",
            "Saving to: ‘outputs/checkpoints.zip’\n",
            "\n",
            "\routputs/checkpoints     [<=>                 ]       0  --.-KB/s               \routputs/checkpoints     [ <=>                ]     570  --.-KB/s    in 0s      \n",
            "\n",
            "2020-04-16 19:39:18 (94.7 MB/s) - ‘outputs/checkpoints.zip’ saved [570]\n",
            "\n",
            "--2020-04-16 19:39:18--  https://drive.google.com/static/doclist/client/css/3114378575-untrustedcontent.css\n",
            "Reusing existing connection to drive.google.com:443.\n",
            "HTTP request sent, awaiting response... 200 OK\n",
            "Length: 272455 (266K) [text/css]\n",
            "Saving to: ‘outputs/checkpoints.zip’\n",
            "\n",
            "\routputs/checkpoints   0%[                    ]       0  --.-KB/s               \routputs/checkpoints 100%[===================>] 266.07K  --.-KB/s    in 0.002s  \n",
            "\n",
            "2020-04-16 19:39:18 (156 MB/s) - ‘outputs/checkpoints.zip’ saved [272455/272455]\n",
            "\n",
            "--2020-04-16 19:39:18--  https://drive.google.com/settings?hl=en_US\n",
            "Reusing existing connection to drive.google.com:443.\n",
            "HTTP request sent, awaiting response... 302 Found\n",
            "Location: https://accounts.google.com/ServiceLogin?service=wise&passive=1209600&continue=https://drive.google.com/settings?hl%3Den_US&followup=https://drive.google.com/settings?hl%3Den_US&hl=en_US [following]\n",
            "--2020-04-16 19:39:18--  https://accounts.google.com/ServiceLogin?service=wise&passive=1209600&continue=https://drive.google.com/settings?hl%3Den_US&followup=https://drive.google.com/settings?hl%3Den_US&hl=en_US\n",
            "Resolving accounts.google.com (accounts.google.com)... 108.177.126.84, 2a00:1450:4013:c01::54\n",
            "Connecting to accounts.google.com (accounts.google.com)|108.177.126.84|:443... connected.\n",
            "HTTP request sent, awaiting response... 200 OK\n",
            "Length: unspecified [text/html]\n",
            "Saving to: ‘outputs/checkpoints.zip’\n",
            "\n",
            "\routputs/checkpoints     [<=>                 ]       0  --.-KB/s               \routputs/checkpoints     [ <=>                ]  55.87K  --.-KB/s    in 0s      \n",
            "\n",
            "2020-04-16 19:39:18 (113 MB/s) - ‘outputs/checkpoints.zip’ saved [57209]\n",
            "\n",
            "--2020-04-16 19:39:18--  https://drive.google.com/open?id=1cXF9pmVy9oz6hMCYRaXdk1d566JMZg-o\n",
            "Connecting to drive.google.com (drive.google.com)|173.194.69.101|:443... connected.\n",
            "HTTP request sent, awaiting response... 307 Temporary Redirect\n",
            "Location: https://drive.google.com/file/d/1cXF9pmVy9oz6hMCYRaXdk1d566JMZg-o/view?usp=drive_open [following]\n",
            "--2020-04-16 19:39:19--  https://drive.google.com/file/d/1cXF9pmVy9oz6hMCYRaXdk1d566JMZg-o/view?usp=drive_open\n",
            "Reusing existing connection to drive.google.com:443.\n",
            "HTTP request sent, awaiting response... 200 OK\n",
            "Length: unspecified [text/html]\n",
            "Saving to: ‘outputs/checkpoints.zip’\n",
            "\n",
            "\routputs/checkpoints     [<=>                 ]       0  --.-KB/s               \routputs/checkpoints     [ <=>                ]  68.02K  --.-KB/s    in 0.03s   \n",
            "\n",
            "2020-04-16 19:39:19 (2.56 MB/s) - ‘outputs/checkpoints.zip’ saved [69651]\n",
            "\n",
            "--2020-04-16 19:39:19--  https://drive.google.com/uc?export=download&confirm=bSBq&id=1cXF9pmVy9oz6hMCYRaXdk1d566JMZg-o\n",
            "Reusing existing connection to drive.google.com:443.\n",
            "HTTP request sent, awaiting response... 302 Moved Temporarily\n",
            "Location: https://doc-00-6o-docs.googleusercontent.com/docs/securesc/aid5u7mlqavvr2dpan59tctfs2627bvd/psttub2445mcj4bs3c1ffc7mk1278ldi/1587065925000/08757598759635337816/04123074806303377332Z/1cXF9pmVy9oz6hMCYRaXdk1d566JMZg-o?e=download [following]\n",
            "--2020-04-16 19:39:19--  https://doc-00-6o-docs.googleusercontent.com/docs/securesc/aid5u7mlqavvr2dpan59tctfs2627bvd/psttub2445mcj4bs3c1ffc7mk1278ldi/1587065925000/08757598759635337816/04123074806303377332Z/1cXF9pmVy9oz6hMCYRaXdk1d566JMZg-o?e=download\n",
            "Resolving doc-00-6o-docs.googleusercontent.com (doc-00-6o-docs.googleusercontent.com)... 173.194.79.132, 2a00:1450:4013:c05::84\n",
            "Connecting to doc-00-6o-docs.googleusercontent.com (doc-00-6o-docs.googleusercontent.com)|173.194.79.132|:443... connected.\n",
            "HTTP request sent, awaiting response... 302 Found\n",
            "Location: https://docs.google.com/nonceSigner?nonce=1pdgn14nblolk&continue=https://doc-00-6o-docs.googleusercontent.com/docs/securesc/aid5u7mlqavvr2dpan59tctfs2627bvd/psttub2445mcj4bs3c1ffc7mk1278ldi/1587065925000/08757598759635337816/04123074806303377332Z/1cXF9pmVy9oz6hMCYRaXdk1d566JMZg-o?e%3Ddownload&hash=ov2rj7be1m4ei8mlktq1vje0l1d665qn [following]\n",
            "--2020-04-16 19:39:19--  https://docs.google.com/nonceSigner?nonce=1pdgn14nblolk&continue=https://doc-00-6o-docs.googleusercontent.com/docs/securesc/aid5u7mlqavvr2dpan59tctfs2627bvd/psttub2445mcj4bs3c1ffc7mk1278ldi/1587065925000/08757598759635337816/04123074806303377332Z/1cXF9pmVy9oz6hMCYRaXdk1d566JMZg-o?e%3Ddownload&hash=ov2rj7be1m4ei8mlktq1vje0l1d665qn\n",
            "Resolving docs.google.com (docs.google.com)... 108.177.119.113, 108.177.119.102, 108.177.119.100, ...\n",
            "Connecting to docs.google.com (docs.google.com)|108.177.119.113|:443... connected.\n",
            "HTTP request sent, awaiting response... 302 Found\n",
            "Location: https://doc-00-6o-docs.googleusercontent.com/docs/securesc/aid5u7mlqavvr2dpan59tctfs2627bvd/psttub2445mcj4bs3c1ffc7mk1278ldi/1587065925000/08757598759635337816/04123074806303377332Z/1cXF9pmVy9oz6hMCYRaXdk1d566JMZg-o?e=download&nonce=1pdgn14nblolk&user=04123074806303377332Z&hash=a3isq1vi9gdpmbuu95oaab2j3tkqfjjk [following]\n",
            "--2020-04-16 19:39:19--  https://doc-00-6o-docs.googleusercontent.com/docs/securesc/aid5u7mlqavvr2dpan59tctfs2627bvd/psttub2445mcj4bs3c1ffc7mk1278ldi/1587065925000/08757598759635337816/04123074806303377332Z/1cXF9pmVy9oz6hMCYRaXdk1d566JMZg-o?e=download&nonce=1pdgn14nblolk&user=04123074806303377332Z&hash=a3isq1vi9gdpmbuu95oaab2j3tkqfjjk\n",
            "Connecting to doc-00-6o-docs.googleusercontent.com (doc-00-6o-docs.googleusercontent.com)|173.194.79.132|:443... connected.\n",
            "HTTP request sent, awaiting response... 200 OK\n",
            "Length: unspecified [application/x-zip-compressed]\n",
            "Saving to: ‘outputs/checkpoints.zip’\n",
            "\n",
            "outputs/checkpoints     [  <=>               ]   1.03G   107MB/s    in 10s     \n",
            "\n",
            "2020-04-16 19:39:30 (102 MB/s) - ‘outputs/checkpoints.zip’ saved [1107870070]\n",
            "\n",
            "FINISHED --2020-04-16 19:39:30--\n",
            "Total wall clock time: 12s\n",
            "Downloaded: 6 files, 1.0G in 10s (102 MB/s)\n"
          ],
          "name": "stdout"
        }
      ]
    },
    {
      "cell_type": "code",
      "metadata": {
        "colab_type": "code",
        "id": "DX-MPQKSs4pA",
        "colab": {
          "base_uri": "https://localhost:8080/",
          "height": 34
        },
        "outputId": "06247289-c237-47cb-9295-98eda5583380"
      },
      "source": [
        "cd outputs"
      ],
      "execution_count": 22,
      "outputs": [
        {
          "output_type": "stream",
          "text": [
            "/content/vfit-clothing/outputs\n"
          ],
          "name": "stdout"
        }
      ]
    },
    {
      "cell_type": "code",
      "metadata": {
        "colab_type": "code",
        "id": "Qz6mYZUEwF1d",
        "colab": {
          "base_uri": "https://localhost:8080/",
          "height": 221
        },
        "outputId": "fbaef6d9-0005-4756-e944-942d17e46d84"
      },
      "source": [
        "!unzip checkpoints.zip"
      ],
      "execution_count": 23,
      "outputs": [
        {
          "output_type": "stream",
          "text": [
            "Archive:  checkpoints.zip\n",
            "warning [checkpoints.zip]:  403138 extra bytes at beginning or within zipfile\n",
            "  (attempting to process anyway)\n",
            "   creating: checkpoints/\n",
            "   creating: checkpoints/deepfillv2/\n",
            "  inflating: checkpoints/deepfillv2/net_epoch_50_id_G.pth  \n",
            "   creating: checkpoints/lwb_imper/\n",
            "  inflating: checkpoints/lwb_imper/net_epoch_30_id_G.pth  \n",
            "   creating: checkpoints/lwb_imper_fashion_place/\n",
            "  inflating: checkpoints/lwb_imper_fashion_place/net_epoch_30_id_G.pth  \n",
            "   creating: checkpoints/lwb_imper_place/\n",
            "  inflating: checkpoints/lwb_imper_place/net_epoch_30_id_G.pth  \n"
          ],
          "name": "stdout"
        }
      ]
    },
    {
      "cell_type": "code",
      "metadata": {
        "colab_type": "code",
        "id": "Zm_daNeKwfqQ",
        "colab": {
          "base_uri": "https://localhost:8080/",
          "height": 34
        },
        "outputId": "4731accc-2fef-4a17-8595-9123647c5951"
      },
      "source": [
        "cd .."
      ],
      "execution_count": 24,
      "outputs": [
        {
          "output_type": "stream",
          "text": [
            "/content/vfit-clothing\n"
          ],
          "name": "stdout"
        }
      ]
    },
    {
      "cell_type": "code",
      "metadata": {
        "colab_type": "code",
        "id": "Waf-VocmwHlT",
        "colab": {
          "base_uri": "https://localhost:8080/",
          "height": 1000
        },
        "outputId": "6832653b-e8c2-4ea1-a0f5-01478947ae1a"
      },
      "source": [
        "!wget --no-check-certificate -r  \"https://drive.google.com/uc?export=download&id=1cXF9pmVy9oz6hMCYRaXdk1d566JMZg-o\" -O assets/imgs.zip"
      ],
      "execution_count": 25,
      "outputs": [
        {
          "output_type": "stream",
          "text": [
            "WARNING: combining -O with -r or -p will mean that all downloaded content\n",
            "will be placed in the single file you specified.\n",
            "\n",
            "--2020-04-16 19:39:50--  https://drive.google.com/uc?export=download&id=1cXF9pmVy9oz6hMCYRaXdk1d566JMZg-o\n",
            "Resolving drive.google.com (drive.google.com)... 173.194.69.138, 173.194.69.100, 173.194.69.102, ...\n",
            "Connecting to drive.google.com (drive.google.com)|173.194.69.138|:443... connected.\n",
            "HTTP request sent, awaiting response... 200 OK\n",
            "Length: unspecified [text/html]\n",
            "Saving to: ‘assets/imgs.zip’\n",
            "\n",
            "\rassets/imgs.zip         [<=>                 ]       0  --.-KB/s               \rassets/imgs.zip         [ <=>                ]   3.18K  --.-KB/s    in 0s      \n",
            "\n",
            "2020-04-16 19:39:50 (44.6 MB/s) - ‘assets/imgs.zip’ saved [3253]\n",
            "\n",
            "Loading robots.txt; please ignore errors.\n",
            "--2020-04-16 19:39:50--  https://drive.google.com/robots.txt\n",
            "Reusing existing connection to drive.google.com:443.\n",
            "HTTP request sent, awaiting response... 200 OK\n",
            "Length: unspecified [text/plain]\n",
            "Saving to: ‘assets/imgs.zip’\n",
            "\n",
            "\rassets/imgs.zip         [<=>                 ]       0  --.-KB/s               \rassets/imgs.zip         [ <=>                ]     570  --.-KB/s    in 0s      \n",
            "\n",
            "2020-04-16 19:39:50 (86.9 MB/s) - ‘assets/imgs.zip’ saved [570]\n",
            "\n",
            "--2020-04-16 19:39:50--  https://drive.google.com/static/doclist/client/css/3114378575-untrustedcontent.css\n",
            "Reusing existing connection to drive.google.com:443.\n",
            "HTTP request sent, awaiting response... 200 OK\n",
            "Length: 272455 (266K) [text/css]\n",
            "Saving to: ‘assets/imgs.zip’\n",
            "\n",
            "\rassets/imgs.zip       0%[                    ]       0  --.-KB/s               \rassets/imgs.zip     100%[===================>] 266.07K  --.-KB/s    in 0.002s  \n",
            "\n",
            "2020-04-16 19:39:50 (159 MB/s) - ‘assets/imgs.zip’ saved [272455/272455]\n",
            "\n",
            "--2020-04-16 19:39:50--  https://drive.google.com/settings?hl=en_US\n",
            "Reusing existing connection to drive.google.com:443.\n",
            "HTTP request sent, awaiting response... 302 Found\n",
            "Location: https://accounts.google.com/ServiceLogin?service=wise&passive=1209600&continue=https://drive.google.com/settings?hl%3Den_US&followup=https://drive.google.com/settings?hl%3Den_US&hl=en_US [following]\n",
            "--2020-04-16 19:39:50--  https://accounts.google.com/ServiceLogin?service=wise&passive=1209600&continue=https://drive.google.com/settings?hl%3Den_US&followup=https://drive.google.com/settings?hl%3Den_US&hl=en_US\n",
            "Resolving accounts.google.com (accounts.google.com)... 108.177.119.84, 2a00:1450:4013:c01::54\n",
            "Connecting to accounts.google.com (accounts.google.com)|108.177.119.84|:443... connected.\n",
            "HTTP request sent, awaiting response... 200 OK\n",
            "Length: unspecified [text/html]\n",
            "Saving to: ‘assets/imgs.zip’\n",
            "\n",
            "\rassets/imgs.zip         [<=>                 ]       0  --.-KB/s               \rassets/imgs.zip         [ <=>                ]  55.85K  --.-KB/s    in 0.001s  \n",
            "\n",
            "2020-04-16 19:39:50 (61.2 MB/s) - ‘assets/imgs.zip’ saved [57193]\n",
            "\n",
            "--2020-04-16 19:39:50--  https://drive.google.com/open?id=1cXF9pmVy9oz6hMCYRaXdk1d566JMZg-o\n",
            "Connecting to drive.google.com (drive.google.com)|173.194.69.138|:443... connected.\n",
            "HTTP request sent, awaiting response... 307 Temporary Redirect\n",
            "Location: https://drive.google.com/file/d/1cXF9pmVy9oz6hMCYRaXdk1d566JMZg-o/view?usp=drive_open [following]\n",
            "--2020-04-16 19:39:50--  https://drive.google.com/file/d/1cXF9pmVy9oz6hMCYRaXdk1d566JMZg-o/view?usp=drive_open\n",
            "Reusing existing connection to drive.google.com:443.\n",
            "HTTP request sent, awaiting response... 200 OK\n",
            "Length: unspecified [text/html]\n",
            "Saving to: ‘assets/imgs.zip’\n",
            "\n",
            "\rassets/imgs.zip         [<=>                 ]       0  --.-KB/s               \rassets/imgs.zip         [ <=>                ]  68.01K  --.-KB/s    in 0.03s   \n",
            "\n",
            "2020-04-16 19:39:51 (2.47 MB/s) - ‘assets/imgs.zip’ saved [69639]\n",
            "\n",
            "--2020-04-16 19:39:51--  https://drive.google.com/uc?export=download&confirm=gKYX&id=1cXF9pmVy9oz6hMCYRaXdk1d566JMZg-o\n",
            "Reusing existing connection to drive.google.com:443.\n",
            "HTTP request sent, awaiting response... 302 Moved Temporarily\n",
            "Location: https://doc-08-20-docs.googleusercontent.com/docs/securesc/2rjd73cekvlri3jpd08laa5a3oqjm2rg/ip60cg6opssm1h1ifgngnn70tuvvf0os/1587065925000/08757598759635337816/16442515827094509575Z/1cXF9pmVy9oz6hMCYRaXdk1d566JMZg-o?e=download [following]\n",
            "--2020-04-16 19:39:51--  https://doc-08-20-docs.googleusercontent.com/docs/securesc/2rjd73cekvlri3jpd08laa5a3oqjm2rg/ip60cg6opssm1h1ifgngnn70tuvvf0os/1587065925000/08757598759635337816/16442515827094509575Z/1cXF9pmVy9oz6hMCYRaXdk1d566JMZg-o?e=download\n",
            "Resolving doc-08-20-docs.googleusercontent.com (doc-08-20-docs.googleusercontent.com)... 173.194.79.132, 2a00:1450:4013:c05::84\n",
            "Connecting to doc-08-20-docs.googleusercontent.com (doc-08-20-docs.googleusercontent.com)|173.194.79.132|:443... connected.\n",
            "HTTP request sent, awaiting response... 302 Found\n",
            "Location: https://docs.google.com/nonceSigner?nonce=lvv7a4qpooq6o&continue=https://doc-08-20-docs.googleusercontent.com/docs/securesc/2rjd73cekvlri3jpd08laa5a3oqjm2rg/ip60cg6opssm1h1ifgngnn70tuvvf0os/1587065925000/08757598759635337816/16442515827094509575Z/1cXF9pmVy9oz6hMCYRaXdk1d566JMZg-o?e%3Ddownload&hash=7l25g5up5lvgfaud8roqu16kq2dbi8gm [following]\n",
            "--2020-04-16 19:39:51--  https://docs.google.com/nonceSigner?nonce=lvv7a4qpooq6o&continue=https://doc-08-20-docs.googleusercontent.com/docs/securesc/2rjd73cekvlri3jpd08laa5a3oqjm2rg/ip60cg6opssm1h1ifgngnn70tuvvf0os/1587065925000/08757598759635337816/16442515827094509575Z/1cXF9pmVy9oz6hMCYRaXdk1d566JMZg-o?e%3Ddownload&hash=7l25g5up5lvgfaud8roqu16kq2dbi8gm\n",
            "Resolving docs.google.com (docs.google.com)... 108.177.119.113, 108.177.119.102, 108.177.119.100, ...\n",
            "Connecting to docs.google.com (docs.google.com)|108.177.119.113|:443... connected.\n",
            "HTTP request sent, awaiting response... 302 Found\n",
            "Location: https://doc-08-20-docs.googleusercontent.com/docs/securesc/2rjd73cekvlri3jpd08laa5a3oqjm2rg/ip60cg6opssm1h1ifgngnn70tuvvf0os/1587065925000/08757598759635337816/16442515827094509575Z/1cXF9pmVy9oz6hMCYRaXdk1d566JMZg-o?e=download&nonce=lvv7a4qpooq6o&user=16442515827094509575Z&hash=3rg140p29lbgibr2mssqv5e4k9cgoq22 [following]\n",
            "--2020-04-16 19:39:51--  https://doc-08-20-docs.googleusercontent.com/docs/securesc/2rjd73cekvlri3jpd08laa5a3oqjm2rg/ip60cg6opssm1h1ifgngnn70tuvvf0os/1587065925000/08757598759635337816/16442515827094509575Z/1cXF9pmVy9oz6hMCYRaXdk1d566JMZg-o?e=download&nonce=lvv7a4qpooq6o&user=16442515827094509575Z&hash=3rg140p29lbgibr2mssqv5e4k9cgoq22\n",
            "Connecting to doc-08-20-docs.googleusercontent.com (doc-08-20-docs.googleusercontent.com)|173.194.79.132|:443... connected.\n",
            "HTTP request sent, awaiting response... 200 OK\n",
            "Length: unspecified [application/x-zip-compressed]\n",
            "Saving to: ‘assets/imgs.zip’\n",
            "\n",
            "assets/imgs.zip         [        <=>         ]   1.03G  30.5MB/s    in 23s     \n",
            "\n",
            "2020-04-16 19:40:14 (46.1 MB/s) - ‘assets/imgs.zip’ saved [1107870070]\n",
            "\n",
            "FINISHED --2020-04-16 19:40:14--\n",
            "Total wall clock time: 24s\n",
            "Downloaded: 6 files, 1.0G in 23s (46.1 MB/s)\n"
          ],
          "name": "stdout"
        }
      ]
    },
    {
      "cell_type": "code",
      "metadata": {
        "colab_type": "code",
        "id": "o4T4aonowc4h",
        "colab": {
          "base_uri": "https://localhost:8080/",
          "height": 34
        },
        "outputId": "d0d8ef1b-1d80-4e98-9ea8-b26fcbf479ba"
      },
      "source": [
        "cd assets"
      ],
      "execution_count": 26,
      "outputs": [
        {
          "output_type": "stream",
          "text": [
            "/content/vfit-clothing/assets\n"
          ],
          "name": "stdout"
        }
      ]
    },
    {
      "cell_type": "code",
      "metadata": {
        "id": "RJ3lLMF_hFfR",
        "colab_type": "code",
        "colab": {
          "base_uri": "https://localhost:8080/",
          "height": 34
        },
        "outputId": "b84423f3-7a40-43a9-8384-9f33b535de5f"
      },
      "source": [
        "ls /content/vfit-clothing/assets/checkpoints"
      ],
      "execution_count": 31,
      "outputs": [
        {
          "output_type": "stream",
          "text": [
            "\u001b[0m\u001b[01;34mdeepfillv2\u001b[0m/  \u001b[01;34mlwb_imper\u001b[0m/  \u001b[01;34mlwb_imper_fashion_place\u001b[0m/  \u001b[01;34mlwb_imper_place\u001b[0m/\n"
          ],
          "name": "stdout"
        }
      ]
    },
    {
      "cell_type": "code",
      "metadata": {
        "colab_type": "code",
        "id": "uVaYlUjBwnx1",
        "colab": {
          "base_uri": "https://localhost:8080/",
          "height": 221
        },
        "outputId": "5079edae-ce73-46ba-b3fc-a3093cf85dd8"
      },
      "source": [
        "!unzip imgs.zip"
      ],
      "execution_count": 27,
      "outputs": [
        {
          "output_type": "stream",
          "text": [
            "Archive:  imgs.zip\n",
            "warning [imgs.zip]:  403110 extra bytes at beginning or within zipfile\n",
            "  (attempting to process anyway)\n",
            "   creating: checkpoints/\n",
            "   creating: checkpoints/deepfillv2/\n",
            "  inflating: checkpoints/deepfillv2/net_epoch_50_id_G.pth  \n",
            "   creating: checkpoints/lwb_imper/\n",
            "  inflating: checkpoints/lwb_imper/net_epoch_30_id_G.pth  \n",
            "   creating: checkpoints/lwb_imper_fashion_place/\n",
            "  inflating: checkpoints/lwb_imper_fashion_place/net_epoch_30_id_G.pth  \n",
            "   creating: checkpoints/lwb_imper_place/\n",
            "  inflating: checkpoints/lwb_imper_place/net_epoch_30_id_G.pth  \n"
          ],
          "name": "stdout"
        }
      ]
    },
    {
      "cell_type": "code",
      "metadata": {
        "colab_type": "code",
        "id": "ZsG341nMwpqD",
        "colab": {
          "base_uri": "https://localhost:8080/",
          "height": 34
        },
        "outputId": "8e2a736e-2de2-4a88-f5f9-dbe72ed14bcb"
      },
      "source": [
        "cd .."
      ],
      "execution_count": 28,
      "outputs": [
        {
          "output_type": "stream",
          "text": [
            "/content/vfit-clothing\n"
          ],
          "name": "stdout"
        }
      ]
    },
    {
      "cell_type": "code",
      "metadata": {
        "colab_type": "code",
        "id": "dCrFpImFss1p",
        "pycharm": {
          "name": "#%%\n"
        },
        "colab": {
          "base_uri": "https://localhost:8080/",
          "height": 1000
        },
        "outputId": "1ee0f7c1-3f8b-4815-82d8-964cea50fff4"
      },
      "source": [
        "%%bash\n",
        "python run_swap.py --gpu_ids 0 --model imitator --output_dir ./outputs/results/  \\\n",
        "    --src_path      ./assets/src_imgs/internet/men1_256.jpg    \\\n",
        "    --tgt_path      ./assets/src_imgs/fashion_man/Sweatshirts_Hoodies-id_0000680701_4_full.jpg    \\\n",
        "    --bg_ks 7   --ft_ks 3 \\\n",
        "    --has_detector  --post_tune  --front_warp --swap_part body  \\\n",
        "    --save_res"
      ],
      "execution_count": 29,
      "outputs": [
        {
          "output_type": "stream",
          "text": [
            "\u001b[0;31m---------------------------------------------------------------------------\u001b[0m\n",
            "\u001b[0;31mUnknownBackend\u001b[0m                            Traceback (most recent call last)\n",
            "\u001b[0;32m/usr/local/lib/python3.6/dist-packages/IPython/core/interactiveshell.py\u001b[0m in \u001b[0;36menable_matplotlib\u001b[0;34m(self, gui)\u001b[0m\n",
            "\u001b[1;32m   2953\u001b[0m         \u001b[0;31m# Now we must activate the gui pylab wants to use, and fix %run to take\u001b[0m\u001b[0;34m\u001b[0m\u001b[0;34m\u001b[0m\u001b[0;34m\u001b[0m\u001b[0m\n",
            "\u001b[1;32m   2954\u001b[0m         \u001b[0;31m# plot updates into account\u001b[0m\u001b[0;34m\u001b[0m\u001b[0;34m\u001b[0m\u001b[0;34m\u001b[0m\u001b[0m\n",
            "\u001b[0;32m-> 2955\u001b[0;31m         \u001b[0mself\u001b[0m\u001b[0;34m.\u001b[0m\u001b[0menable_gui\u001b[0m\u001b[0;34m(\u001b[0m\u001b[0mgui\u001b[0m\u001b[0;34m)\u001b[0m\u001b[0;34m\u001b[0m\u001b[0;34m\u001b[0m\u001b[0m\n",
            "\u001b[0m\u001b[1;32m   2956\u001b[0m         \u001b[0mself\u001b[0m\u001b[0;34m.\u001b[0m\u001b[0mmagics_manager\u001b[0m\u001b[0;34m.\u001b[0m\u001b[0mregistry\u001b[0m\u001b[0;34m[\u001b[0m\u001b[0;34m'ExecutionMagics'\u001b[0m\u001b[0;34m]\u001b[0m\u001b[0;34m.\u001b[0m\u001b[0mdefault_runner\u001b[0m \u001b[0;34m=\u001b[0m\u001b[0;31m \u001b[0m\u001b[0;31m\\\u001b[0m\u001b[0;34m\u001b[0m\u001b[0;34m\u001b[0m\u001b[0m\n",
            "\u001b[1;32m   2957\u001b[0m             \u001b[0mpt\u001b[0m\u001b[0;34m.\u001b[0m\u001b[0mmpl_runner\u001b[0m\u001b[0;34m(\u001b[0m\u001b[0mself\u001b[0m\u001b[0;34m.\u001b[0m\u001b[0msafe_execfile\u001b[0m\u001b[0;34m)\u001b[0m\u001b[0;34m\u001b[0m\u001b[0;34m\u001b[0m\u001b[0m\n",
            "\n",
            "\u001b[0;32m/usr/local/lib/python3.6/dist-packages/IPython/terminal/interactiveshell.py\u001b[0m in \u001b[0;36menable_gui\u001b[0;34m(self, gui)\u001b[0m\n",
            "\u001b[1;32m    512\u001b[0m         \u001b[0;32mif\u001b[0m \u001b[0mgui\u001b[0m\u001b[0;34m:\u001b[0m\u001b[0;34m\u001b[0m\u001b[0;34m\u001b[0m\u001b[0m\n",
            "\u001b[1;32m    513\u001b[0m             \u001b[0mself\u001b[0m\u001b[0;34m.\u001b[0m\u001b[0mactive_eventloop\u001b[0m\u001b[0;34m,\u001b[0m \u001b[0mself\u001b[0m\u001b[0;34m.\u001b[0m\u001b[0m_inputhook\u001b[0m \u001b[0;34m=\u001b[0m\u001b[0;31m\\\u001b[0m\u001b[0;34m\u001b[0m\u001b[0;34m\u001b[0m\u001b[0m\n",
            "\u001b[0;32m--> 514\u001b[0;31m                 \u001b[0mget_inputhook_name_and_func\u001b[0m\u001b[0;34m(\u001b[0m\u001b[0mgui\u001b[0m\u001b[0;34m)\u001b[0m\u001b[0;34m\u001b[0m\u001b[0;34m\u001b[0m\u001b[0m\n",
            "\u001b[0m\u001b[1;32m    515\u001b[0m         \u001b[0;32melse\u001b[0m\u001b[0;34m:\u001b[0m\u001b[0;34m\u001b[0m\u001b[0;34m\u001b[0m\u001b[0m\n",
            "\u001b[1;32m    516\u001b[0m             \u001b[0mself\u001b[0m\u001b[0;34m.\u001b[0m\u001b[0mactive_eventloop\u001b[0m \u001b[0;34m=\u001b[0m \u001b[0mself\u001b[0m\u001b[0;34m.\u001b[0m\u001b[0m_inputhook\u001b[0m \u001b[0;34m=\u001b[0m \u001b[0;32mNone\u001b[0m\u001b[0;34m\u001b[0m\u001b[0;34m\u001b[0m\u001b[0m\n",
            "\n",
            "\u001b[0;32m/usr/local/lib/python3.6/dist-packages/IPython/terminal/pt_inputhooks/__init__.py\u001b[0m in \u001b[0;36mget_inputhook_name_and_func\u001b[0;34m(gui)\u001b[0m\n",
            "\u001b[1;32m     36\u001b[0m \u001b[0;34m\u001b[0m\u001b[0m\n",
            "\u001b[1;32m     37\u001b[0m     \u001b[0;32mif\u001b[0m \u001b[0mgui\u001b[0m \u001b[0;32mnot\u001b[0m \u001b[0;32min\u001b[0m \u001b[0mbackends\u001b[0m\u001b[0;34m:\u001b[0m\u001b[0;34m\u001b[0m\u001b[0;34m\u001b[0m\u001b[0m\n",
            "\u001b[0;32m---> 38\u001b[0;31m         \u001b[0;32mraise\u001b[0m \u001b[0mUnknownBackend\u001b[0m\u001b[0;34m(\u001b[0m\u001b[0mgui\u001b[0m\u001b[0;34m)\u001b[0m\u001b[0;34m\u001b[0m\u001b[0;34m\u001b[0m\u001b[0m\n",
            "\u001b[0m\u001b[1;32m     39\u001b[0m \u001b[0;34m\u001b[0m\u001b[0m\n",
            "\u001b[1;32m     40\u001b[0m     \u001b[0;32mif\u001b[0m \u001b[0mgui\u001b[0m \u001b[0;32min\u001b[0m \u001b[0maliases\u001b[0m\u001b[0;34m:\u001b[0m\u001b[0;34m\u001b[0m\u001b[0;34m\u001b[0m\u001b[0m\n",
            "\n",
            "\u001b[0;31mUnknownBackend\u001b[0m: No event loop integration for 'inline'. Supported event loops are: qt, qt4, qt5, gtk, gtk2, gtk3, tk, wx, pyglet, glut, osx\n",
            "------------ Options -------------\n",
            "T_pose: False\n",
            "batch_size: 4\n",
            "bg_ks: 7\n",
            "bg_model: ./outputs/checkpoints/deepfillv2/net_epoch_50_id_G.pth\n",
            "bg_replace: False\n",
            "body_seg: False\n",
            "cam_strategy: smooth\n",
            "checkpoints_dir: ./outputs/checkpoints/\n",
            "cond_nc: 3\n",
            "data_dir: /p300/datasets/iPER\n",
            "dataset_mode: iPER\n",
            "debug: False\n",
            "do_saturate_mask: False\n",
            "face_model: assets/pretrains/sphere20a_20171020.pth\n",
            "front_warp: True\n",
            "ft_ks: 3\n",
            "gen_name: impersonator\n",
            "gpu_ids: 0\n",
            "has_detector: True\n",
            "hmr_model: assets/pretrains/hmr_tf2pt.pth\n",
            "image_size: 256\n",
            "images_folder: images_HD\n",
            "ip: \n",
            "is_train: False\n",
            "load_epoch: 0\n",
            "load_path: ./outputs/checkpoints/lwb_imper_fashion_place/net_epoch_30_id_G.pth\n",
            "map_name: uv_seg\n",
            "model: imitator\n",
            "n_threads_test: 2\n",
            "name: running\n",
            "norm_type: instance\n",
            "only_vis: False\n",
            "output_dir: ./outputs/results/\n",
            "part_info: assets/pretrains/smpl_part_info.json\n",
            "port: 31100\n",
            "post_tune: True\n",
            "pri_path: ./assets/samples/A_priors/imgs\n",
            "repeat_num: 6\n",
            "save_res: True\n",
            "serial_batches: False\n",
            "smpl_model: assets/pretrains/smpl_model.pkl\n",
            "smpls_folder: smpls\n",
            "src_path: ./assets/src_imgs/internet/men1_256.jpg\n",
            "swap_part: body\n",
            "test_ids_file: val.txt\n",
            "tex_size: 3\n",
            "tgt_path: ./assets/src_imgs/fashion_man/Sweatshirts_Hoodies-id_0000680701_4_full.jpg\n",
            "time_step: 10\n",
            "train_ids_file: train.txt\n",
            "uv_mapping: assets/pretrains/mapper.txt\n",
            "view_params: R=0,90,0/t=0,0,0\n",
            "-------------- End ----------------\n",
            "./outputs/checkpoints/running\n",
            "Network impersonator was created\n",
            "Loading net: ./outputs/checkpoints/lwb_imper_fashion_place/net_epoch_30_id_G.pth\n",
            "Network deepfillv2 was created\n",
            "Loading net: ./outputs/checkpoints/deepfillv2/net_epoch_50_id_G.pth\n"
          ],
          "name": "stdout"
        },
        {
          "output_type": "stream",
          "text": [
            "[TerminalIPythonApp] WARNING | GUI event loop or pylab initialization failed\n",
            "/usr/local/lib/python3.6/dist-packages/IPython/utils/traitlets.py:5: UserWarning: IPython.utils.traitlets has moved to a top-level traitlets package.\n",
            "  warn(\"IPython.utils.traitlets has moved to a top-level traitlets package.\")\n",
            "Downloading: \"https://download.pytorch.org/models/maskrcnn_resnet50_fpn_coco-bf2d0c1e.pth\" to /root/.cache/torch/checkpoints/maskrcnn_resnet50_fpn_coco-bf2d0c1e.pth\n",
            "\r  0%|          | 0.00/170M [00:00<?, ?B/s]\r  4%|▍         | 6.85M/170M [00:00<00:02, 71.8MB/s]\r 10%|▉         | 16.3M/170M [00:00<00:02, 78.3MB/s]\r 14%|█▍        | 24.4M/170M [00:00<00:01, 79.8MB/s]\r 19%|█▉        | 32.0M/170M [00:00<00:01, 79.9MB/s]\r 24%|██▎       | 40.2M/170M [00:00<00:01, 81.3MB/s]\r 28%|██▊       | 46.9M/170M [00:00<00:01, 76.9MB/s]\r 32%|███▏      | 53.7M/170M [00:00<00:01, 74.3MB/s]\r 37%|███▋      | 62.5M/170M [00:00<00:01, 76.4MB/s]\r 42%|████▏     | 71.6M/170M [00:00<00:01, 80.9MB/s]\r 47%|████▋     | 80.4M/170M [00:01<00:01, 84.0MB/s]\r 52%|█████▏    | 88.3M/170M [00:01<00:01, 81.6MB/s]\r 58%|█████▊    | 98.0M/170M [00:01<00:00, 86.8MB/s]\r 63%|██████▎   | 107M/170M [00:01<00:00, 87.5MB/s] \r 68%|██████▊   | 115M/170M [00:01<00:00, 88.5MB/s]\r 73%|███████▎  | 124M/170M [00:01<00:00, 88.0MB/s]\r 78%|███████▊  | 133M/170M [00:01<00:00, 91.0MB/s]\r 84%|████████▍ | 142M/170M [00:01<00:00, 92.2MB/s]\r 89%|████████▉ | 151M/170M [00:01<00:00, 89.8MB/s]\r 94%|█████████▍| 160M/170M [00:01<00:00, 90.9MB/s]\r 99%|█████████▉| 169M/170M [00:02<00:00, 87.3MB/s]\r100%|██████████| 170M/170M [00:02<00:00, 86.0MB/s]\n",
            "Traceback (most recent call last):\n",
            "  File \"run_swap.py\", line 53, in <module>\n",
            "    swapper.swap_setup(src_path, tgt_path)\n",
            "  File \"/usr/local/lib/python3.6/dist-packages/torch/autograd/grad_mode.py\", line 49, in decorate_no_grad\n",
            "    return func(*args, **kwargs)\n",
            "  File \"/content/vfit-clothing/models/swapper.py\", line 195, in swap_setup\n",
            "    self.src_info = self.personalize(src_path, src_smpl)\n",
            "  File \"/usr/local/lib/python3.6/dist-packages/torch/autograd/grad_mode.py\", line 49, in decorate_no_grad\n",
            "    return func(*args, **kwargs)\n",
            "  File \"/content/vfit-clothing/models/swapper.py\", line 101, in personalize\n",
            "    ori_img = cv_utils.read_cv2_img(src_path)\n",
            "  File \"/content/vfit-clothing/utils/cv_utils.py\", line 18, in read_cv2_img\n",
            "    img = cv2.cvtColor(img, cv2.COLOR_BGR2RGB)\n",
            "cv2.error: OpenCV(3.4.2) /io/opencv/modules/imgproc/src/color.hpp:253: error: (-215:Assertion failed) VScn::contains(scn) && VDcn::contains(dcn) && VDepth::contains(depth) in function 'CvtHelper'\n",
            "\n",
            "\n",
            "If you suspect this is an IPython bug, please report it at:\n",
            "    https://github.com/ipython/ipython/issues\n",
            "or send an email to the mailing list at ipython-dev@python.org\n",
            "\n",
            "You can print a more detailed traceback right now with \"%tb\", or use \"%debug\"\n",
            "to interactively debug it.\n",
            "\n",
            "Extra-detailed tracebacks for bug-reporting purposes can be enabled via:\n",
            "    %config Application.verbose_crash=True\n",
            "\n"
          ],
          "name": "stderr"
        }
      ]
    }
  ]
}